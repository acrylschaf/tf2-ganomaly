{
 "cells": [
  {
   "cell_type": "code",
   "execution_count": 1,
   "metadata": {},
   "outputs": [
    {
     "name": "stdout",
     "output_type": "stream",
     "text": [
      "2.0.0-rc0\n"
     ]
    }
   ],
   "source": [
    "%matplotlib inline\n",
    "\n",
    "import tensorflow as tf\n",
    "from tensorflow.keras import layers\n",
    "print(tf.__version__)\n",
    "import os\n",
    "import time\n",
    "import numpy as np\n",
    "import cv2\n",
    "import matplotlib.pyplot as plt\n",
    "from IPython.display import clear_output"
   ]
  },
  {
   "cell_type": "code",
   "execution_count": 2,
   "metadata": {},
   "outputs": [],
   "source": [
    "# parameters\n",
    "ANOMALY = 2\n",
    "BATCH_SIZE = 64\n",
    "SHUFFLE_BUFFER_SIZE = 100"
   ]
  },
  {
   "cell_type": "code",
   "execution_count": 3,
   "metadata": {},
   "outputs": [],
   "source": [
    "def batch_resize(imgs, size: tuple):\n",
    "    img_out = np.empty((imgs.shape[0],) + size)\n",
    "    for i in range(imgs.shape[0]):\n",
    "        img_out[i] = cv2.resize(imgs[i], size, interpolation=cv2.INTER_CUBIC)\n",
    "    return img_out"
   ]
  },
  {
   "cell_type": "code",
   "execution_count": 4,
   "metadata": {},
   "outputs": [
    {
     "name": "stdout",
     "output_type": "stream",
     "text": [
      "(60000, 32, 32, 1) (60000, 32, 32, 1)\n"
     ]
    }
   ],
   "source": [
    "# dataset\n",
    "data_train, data_test = tf.keras.datasets.mnist.load_data()\n",
    "x_train, y_train = data_train\n",
    "x_test, y_test = data_test\n",
    "x_train = x_train.astype(np.float32)\n",
    "x_test = x_test.astype(np.float32)\n",
    "# resize to (32, 32)\n",
    "x_train = batch_resize(x_train, (32, 32))[..., None]\n",
    "x_test = batch_resize(x_test, (32, 32))[..., None]\n",
    "# normalization\n",
    "mean = x_train.mean()\n",
    "stddev = x_train.std()\n",
    "x_train = (x_train-mean)/stddev\n",
    "x_test = (x_test-mean)/stddev\n",
    "print(x_train.shape, x_train.shape)"
   ]
  },
  {
   "cell_type": "code",
   "execution_count": 5,
   "metadata": {},
   "outputs": [],
   "source": [
    "# define abnoraml data and normal\n",
    "# training data only contains normal\n",
    "x_train = x_train[y_train!=ANOMALY]\n",
    "y_test = (y_test==ANOMALY).astype(np.float32)"
   ]
  },
  {
   "cell_type": "code",
   "execution_count": 6,
   "metadata": {},
   "outputs": [],
   "source": [
    "train_dataset = tf.data.Dataset.from_tensor_slices((x_train, x_train))\n",
    "test_dataset = tf.data.Dataset.from_tensor_slices((x_test, x_test))"
   ]
  },
  {
   "cell_type": "code",
   "execution_count": 7,
   "metadata": {},
   "outputs": [],
   "source": [
    "train_dataset = train_dataset.shuffle(SHUFFLE_BUFFER_SIZE).batch(BATCH_SIZE, drop_remainder=True)\n",
    "test_dataset = test_dataset.batch(BATCH_SIZE, drop_remainder=False)"
   ]
  },
  {
   "cell_type": "code",
   "execution_count": 8,
   "metadata": {},
   "outputs": [],
   "source": [
    "class Option:\n",
    "    def __init__(self, is_train):\n",
    "        if is_train:\n",
    "            self.batch_size = 300\n",
    "            self.isize = 32\n",
    "            self.ckpt_dir = \"ckpt\"\n",
    "            self.nz = 100\n",
    "            self.nc = 1\n",
    "            self.ndf = 64\n",
    "            self.ngf = 64\n",
    "            self.extralayers = 0\n",
    "            self.niter = 15\n",
    "            self.lr = 2e-4\n",
    "            self.w_adv = 1. # Adversarial loss weight\n",
    "            self.w_con = 50. # Reconstruction loss weight\n",
    "            self.w_enc = 1. # Encoder loss weight.\n",
    "            self.beta1 = 0.5\n",
    "        else:\n",
    "            self.batch_size = 5\n",
    "            # TODO"
   ]
  },
  {
   "cell_type": "code",
   "execution_count": 9,
   "metadata": {},
   "outputs": [],
   "source": [
    "class Conv_BN_Act(tf.keras.layers.Layer):\n",
    "    \n",
    "    def __init__(self, filters, ks, act_type, is_bn=True, padding='same', strides=1, conv_tran=False):\n",
    "        super(Conv_BN_Act, self).__init__()\n",
    "        if conv_tran:\n",
    "            self.conv = layers.Conv2DTranspose(filters, ks, strides=strides, padding=padding, use_bias=False)\n",
    "        else:\n",
    "            self.conv = layers.Conv2D(filters, ks, strides=strides, padding=padding, use_bias=False)\n",
    "            \n",
    "        self.is_bn = is_bn\n",
    "        if is_bn:\n",
    "            self.bn = layers.BatchNormalization(epsilon=1e-05, momentum=0.9)\n",
    "            \n",
    "        if act_type=='LeakyReLU':\n",
    "            self.act = layers.LeakyReLU(alpha=0.2)\n",
    "            self.erase_act=False\n",
    "        elif act_type=='ReLU':\n",
    "            self.act = layers.ReLU()\n",
    "            self.erase_act=False\n",
    "        elif act_type=='Tanh':\n",
    "            self.act = layers.Activation(tf.tanh)\n",
    "            self.erase_act=False\n",
    "        elif act_type=='':\n",
    "            self.erase_act=True\n",
    "        else:\n",
    "            raise ValueError\n",
    "            \n",
    "    def call(self, x):\n",
    "        x = self.conv(x)\n",
    "        x = self.bn(x) if self.is_bn else x\n",
    "        x = x if self.erase_act else self.act(x)\n",
    "        return x"
   ]
  },
  {
   "cell_type": "code",
   "execution_count": 10,
   "metadata": {},
   "outputs": [],
   "source": [
    "class Encoder(tf.keras.layers.Layer):\n",
    "    \"\"\" DCGAN ENCODER NETWORK\n",
    "    \"\"\"\n",
    "    \n",
    "    def __init__(self, isize, nz, nc, ndf, n_extra_layers=0, output_features=False):\n",
    "        \"\"\"\n",
    "        Params:\n",
    "            isize(int): input image size\n",
    "            nz(int): num of latent dims\n",
    "            nc(int): num of input dims\n",
    "            ndf(int): num of discriminator(Encoder) filters\n",
    "        \"\"\"\n",
    "        super(Encoder, self).__init__()\n",
    "        assert isize % 16 == 0, \"isize has to be a multiple of 16\"\n",
    "        \n",
    "        self.in_block = Conv_BN_Act(filters=ndf, ks=4, act_type='LeakyReLU', is_bn=False, strides=2)\n",
    "        csize, cndf = isize / 2, ndf\n",
    "        \n",
    "        self.extra_blocks = []\n",
    "        for t in range(n_extra_layers):\n",
    "            extra = Conv_BN_Act(filters=cndf, ks=3, act_type='LeakyReLU')\n",
    "            self.extra_blocks.append(extra)\n",
    "        \n",
    "        self.body_blocks = []\n",
    "        while csize > 4:\n",
    "            in_feat = cndf\n",
    "            out_feat = cndf * 2\n",
    "            body = Conv_BN_Act(filters=out_feat, ks=4, act_type='LeakyReLU', strides=2)\n",
    "            self.body_blocks.append(body)\n",
    "            cndf = cndf * 2\n",
    "            csize = csize / 2\n",
    "        \n",
    "        # state size. K x 4 x 4\n",
    "        self.output_features = output_features\n",
    "        self.out_conv = layers.Conv2D(filters=nz, kernel_size=4, padding='valid')\n",
    "            \n",
    "    def call(self, x):\n",
    "        x = self.in_block(x)\n",
    "        for block in self.extra_blocks:\n",
    "            x = block(x)\n",
    "        for block in self.body_blocks:\n",
    "            x = block(x)\n",
    "        last_features = x\n",
    "        out = self.out_conv(last_features)\n",
    "        if self.output_features:\n",
    "            return out, last_features\n",
    "        else:\n",
    "            return out\n",
    "            "
   ]
  },
  {
   "cell_type": "code",
   "execution_count": 11,
   "metadata": {},
   "outputs": [],
   "source": [
    "class Decoder(tf.keras.layers.Layer):\n",
    "    \n",
    "    def __init__(self, isize, nz, nc, ngf, n_extra_layers=0):\n",
    "        \"\"\"\n",
    "        Params:\n",
    "            isize(int): input image size\n",
    "            nz(int): num of latent dims\n",
    "            nc(int): num of input dims\n",
    "            ngf(int): num of Generator(Decoder) filters\n",
    "        \"\"\"\n",
    "        super(Decoder, self).__init__()\n",
    "        assert isize % 16 == 0, \"isize has to be a multiple of 16\"\n",
    "        cngf, tisize = ngf // 2, 4\n",
    "        while tisize != isize:\n",
    "            cngf = cngf * 2\n",
    "            tisize = tisize * 2\n",
    "        \n",
    "        self.in_block = Conv_BN_Act(filters=cngf, ks=4, act_type='ReLU', padding='valid', conv_tran=True)\n",
    "            \n",
    "        csize, _ = 4, cngf\n",
    "        self.body_blocks = []\n",
    "        while csize < isize // 2:\n",
    "            body = Conv_BN_Act(filters=cngf//2, ks=4, act_type='ReLU', strides=2, conv_tran=True)\n",
    "            self.body_blocks.append(body)\n",
    "            cngf = cngf // 2\n",
    "            csize = csize * 2\n",
    "            \n",
    "        # Extra layers\n",
    "        self.extra_blocks = []\n",
    "        for t in range(n_extra_layers):\n",
    "            extra = Conv_BN_Act(filters=cngf, ks=3, act_type='ReLU', conv_tran=True)\n",
    "            self.extra_blocks.append(extra)\n",
    "        \n",
    "        self.out_block = Conv_BN_Act(filters=nc, ks=4, act_type='Tanh', strides=2, is_bn=False, conv_tran=True)\n",
    "            \n",
    "    def call(self, x):\n",
    "        x = self.in_block(x)\n",
    "        for block in self.body_blocks:\n",
    "            x = block(x)\n",
    "        for block in self.extra_blocks:\n",
    "            x = block(x)\n",
    "        x = self.out_block(x)\n",
    "        return x"
   ]
  },
  {
   "cell_type": "code",
   "execution_count": 12,
   "metadata": {},
   "outputs": [],
   "source": [
    "class NetG(tf.keras.Model):\n",
    "    \n",
    "    def __init__(self, opt):\n",
    "        super(NetG, self).__init__()\n",
    "        self.encoder1 = Encoder(opt.isize, opt.nz, opt.nc, opt.ngf, opt.extralayers)\n",
    "        self.decoder = Decoder(opt.isize, opt.nz, opt.nc, opt.ngf, opt.extralayers)\n",
    "        self.encoder2 = Encoder(opt.isize, opt.nz, opt.nc, opt.ngf, opt.extralayers)\n",
    "\n",
    "    def call(self, x):\n",
    "        latent_i = self.encoder1(x)\n",
    "        gen_img = self.decoder(latent_i)\n",
    "        latent_o = self.encoder2(gen_img)\n",
    "        return latent_i, gen_img, latent_o\n",
    "    \n",
    "    def num_params(self):\n",
    "        return sum([np.prod(var.shape.as_list()) for var in self.trainable_variables])"
   ]
  },
  {
   "cell_type": "code",
   "execution_count": 13,
   "metadata": {},
   "outputs": [],
   "source": [
    "class NetD(tf.keras.Model):\n",
    "    \"\"\" DISCRIMINATOR NETWORK\n",
    "    \"\"\"\n",
    "    def __init__(self, opt):\n",
    "        super(NetD, self).__init__()\n",
    "        self.encoder = Encoder(opt.isize, 1, opt.nc, opt.ngf, opt.extralayers, output_features=True)\n",
    "        self.sigmoid = layers.Activation(tf.sigmoid)\n",
    "\n",
    "    def call(self, x):\n",
    "        output, last_features = self.encoder(x)\n",
    "        output = self.sigmoid(output)\n",
    "        return output, last_features"
   ]
  },
  {
   "cell_type": "code",
   "execution_count": 14,
   "metadata": {},
   "outputs": [],
   "source": [
    "class Runner:\n",
    "    def __init__(self, train_dataset, test_dataset=None):\n",
    "#         self.model = model\n",
    "        self.train_dataset = train_dataset\n",
    "        self.test_dataset = test_dataset\n",
    "    \n",
    "    def train_step(self, x, y):\n",
    "        raise NotImplementedError\n",
    "            \n",
    "    def fit(self, num_epoch, log_freq=500):\n",
    "        for step, (x_batch_train, y_batch_train) in enumerate(self.train_dataset):\n",
    "            loss = self.train_step(x_batch_train, y_batch_train)\n",
    "            if step % log_freq == 0:\n",
    "                print('step: {}, loss: {}'.format(step, loss))\n",
    "    \n",
    "    def save(self):\n",
    "        pass\n",
    "    \n",
    "    def load(self):\n",
    "        pass\n",
    "        \n",
    "    def evaluate(self):\n",
    "        pass\n",
    "        \n"
   ]
  },
  {
   "cell_type": "code",
   "execution_count": 15,
   "metadata": {},
   "outputs": [],
   "source": [
    "class Ganomaly(Runner):\n",
    "    \n",
    "    def __init__(self, opt, train_dataset, test_dataset=None):\n",
    "        super(Ganomaly, self).__init__(train_dataset, test_dataset)\n",
    "        self.opt = opt\n",
    "        self.G = NetG(self.opt)\n",
    "        self.D = NetD(self.opt)\n",
    "        \n",
    "        # label\n",
    "        self.real_label = tf.ones([self.opt.batch_size,], dtype=tf.float32)\n",
    "        self.fake_label = tf.zeros([self.opt.batch_size,], dtype=tf.float32)\n",
    "        \n",
    "        # loss\n",
    "        l2_loss = tf.keras.losses.MeanSquaredError()\n",
    "        l1_loss = tf.keras.losses.MeanAbsoluteError()\n",
    "        bce_loss = tf.keras.losses.BinaryCrossentropy()\n",
    "        \n",
    "        # optimizer\n",
    "        self.d_optimizer = tf.keras.optimizers.Adam(self.opt.lr, beta_1=self.opt.beta1, beta_2=0.999)\n",
    "        self.g_optimizer = tf.keras.optimizers.Adam(self.opt.lr, beta_1=self.opt.beta1, beta_2=0.999)\n",
    "        \n",
    "        # adversarial loss (use feature matching)\n",
    "        self.l_adv = l2_loss \n",
    "        # contextual loss\n",
    "        self.l_con = l1_loss\n",
    "        # Encoder loss\n",
    "        self.l_enc = l2_loss\n",
    "        # discriminator loss\n",
    "        self.l_bce = bce_loss \n",
    "\n",
    "#     @tf.function\n",
    "    def train_step(self, x, y):\n",
    "        self.input = x\n",
    "        with tf.GradientTape() as g_tape, tf.GradientTape() as d_tape:\n",
    "            self.latent_i, self.gen_img, self.latent_o = self.G(self.input)\n",
    "            self.pred_real, self.feat_real = self.D(self.input)\n",
    "            self.pred_fake, self.feat_fake = self.D(self.gen_img)\n",
    "            g_loss = self.g_loss()\n",
    "            d_loss = self.d_loss()\n",
    "        \n",
    "        g_grads = g_tape.gradient(g_loss, self.G.trainable_weights)\n",
    "        d_grads = d_tape.gradient(d_loss, self.D.trainable_weights)\n",
    "        self.g_optimizer.apply_gradients(zip(g_grads, self.G.trainable_weights))\n",
    "        self.d_optimizer.apply_gradients(zip(d_grads, self.D.trainable_weights))\n",
    "        if d_loss < 1e-5: \n",
    "            self.D = NetD(self.opt)\n",
    "            print('re-init D')\n",
    "        return g_loss, d_loss\n",
    "        \n",
    "    def g_loss(self):\n",
    "        self.err_g_adv = self.l_adv(self.feat_real, self.feat_fake)\n",
    "        self.err_g_con = self.l_con(self.input, self.gen_img)\n",
    "        self.err_g_enc = self.l_enc(self.latent_i, self.latent_o)\n",
    "        g_loss = self.err_g_adv * self.opt.w_adv + \\\n",
    "                self.err_g_con * self.opt.w_con + \\\n",
    "                self.err_g_enc * self.opt.w_enc\n",
    "        return g_loss\n",
    "    \n",
    "    def d_loss(self):\n",
    "        self.err_d_real = self.l_bce(self.pred_real, self.real_label)\n",
    "        self.err_d_fake = self.l_bce(self.pred_fake, self.fake_label)\n",
    "        d_loss = (self.err_d_real + self.err_d_fake) * 0.5\n",
    "        return d_loss"
   ]
  },
  {
   "cell_type": "code",
   "execution_count": 16,
   "metadata": {},
   "outputs": [],
   "source": [
    "opt = Option(is_train=True)\n",
    "ganomaly = Ganomaly(opt, train_dataset, test_dataset)"
   ]
  },
  {
   "cell_type": "code",
   "execution_count": 17,
   "metadata": {},
   "outputs": [
    {
     "name": "stdout",
     "output_type": "stream",
     "text": [
      "WARNING:tensorflow:Layer net_g is casting an input tensor from dtype float64 to the layer's dtype of float32, which is new behavior in TensorFlow 2.  The layer has dtype float32 because it's dtype defaults to floatx.\n",
      "\n",
      "If you intended to run this layer in float32, you can safely ignore this warning. If in doubt, this warning is likely only an issue if you are porting a TensorFlow 1.X model to TensorFlow 2.\n",
      "\n",
      "To change all layers to have dtype float64 by default, call `tf.keras.backend.set_floatx('float64')`. To change just this layer, pass dtype='float64' to the layer constructor. If you are the author of this layer, you can disable autocasting by passing autocast=False to the base Layer constructor.\n",
      "\n",
      "WARNING:tensorflow:Layer net_d is casting an input tensor from dtype float64 to the layer's dtype of float32, which is new behavior in TensorFlow 2.  The layer has dtype float32 because it's dtype defaults to floatx.\n",
      "\n",
      "If you intended to run this layer in float32, you can safely ignore this warning. If in doubt, this warning is likely only an issue if you are porting a TensorFlow 1.X model to TensorFlow 2.\n",
      "\n",
      "To change all layers to have dtype float64 by default, call `tf.keras.backend.set_floatx('float64')`. To change just this layer, pass dtype='float64' to the layer constructor. If you are the author of this layer, you can disable autocasting by passing autocast=False to the base Layer constructor.\n",
      "\n",
      "step: 0, loss: (<tf.Tensor: id=990, shape=(), dtype=float32, numpy=34.034542>, <tf.Tensor: id=1071, shape=(), dtype=float32, numpy=7.7511034>)\n",
      "step: 500, loss: (<tf.Tensor: id=507740, shape=(), dtype=float32, numpy=17.2167>, <tf.Tensor: id=507821, shape=(), dtype=float32, numpy=0.02059581>)\n"
     ]
    }
   ],
   "source": [
    "ganomaly.fit(opt.niter)"
   ]
  },
  {
   "cell_type": "code",
   "execution_count": null,
   "metadata": {},
   "outputs": [],
   "source": []
  },
  {
   "cell_type": "code",
   "execution_count": null,
   "metadata": {},
   "outputs": [],
   "source": []
  }
 ],
 "metadata": {
  "kernelspec": {
   "display_name": "Python 3",
   "language": "python",
   "name": "python3"
  },
  "language_info": {
   "codemirror_mode": {
    "name": "ipython",
    "version": 3
   },
   "file_extension": ".py",
   "mimetype": "text/x-python",
   "name": "python",
   "nbconvert_exporter": "python",
   "pygments_lexer": "ipython3",
   "version": "3.6.8"
  }
 },
 "nbformat": 4,
 "nbformat_minor": 4
}
