{
 "cells": [
  {
   "cell_type": "code",
   "execution_count": 1,
   "metadata": {},
   "outputs": [
    {
     "name": "stdout",
     "output_type": "stream",
     "text": [
      "2.0.0-rc0\n"
     ]
    }
   ],
   "source": [
    "%matplotlib inline\n",
    "\n",
    "import tensorflow as tf\n",
    "from tensorflow.keras import layers\n",
    "print(tf.__version__)\n",
    "import os\n",
    "import time\n",
    "import numpy as np\n",
    "import cv2\n",
    "import matplotlib.pyplot as plt\n",
    "from IPython.display import clear_output\n",
    "from model import GANomaly\n",
    "\n",
    "def batch_resize(imgs, size: tuple):\n",
    "    img_out = np.empty((imgs.shape[0],) + size)\n",
    "    for i in range(imgs.shape[0]):\n",
    "        img_out[i] = cv2.resize(imgs[i], size, interpolation=cv2.INTER_CUBIC)\n",
    "    return img_out"
   ]
  },
  {
   "cell_type": "code",
   "execution_count": 2,
   "metadata": {},
   "outputs": [],
   "source": [
    "class Option:\n",
    "    def __init__(self):\n",
    "        self.anomaly = 2 # the anomaly digit\n",
    "        self.shuffle_buffer_size = 10000\n",
    "        self.batch_size = 300\n",
    "        self.isize = 32 # input size\n",
    "        self.ckpt_dir = \"ckpt\"\n",
    "        self.nz = 100 # latent dims\n",
    "        self.nc = 1 # input channels\n",
    "        self.ndf = 64 # number of discriminator's filters\n",
    "        self.ngf = 64 # number of generator's filters\n",
    "        self.extralayers = 0\n",
    "        self.niter = 15 # number of training epochs\n",
    "        self.lr = 2e-4 \n",
    "        self.w_adv = 1. # Adversarial loss weight\n",
    "        self.w_con = 50. # Reconstruction loss weight\n",
    "        self.w_enc = 1. # Encoder loss weight.\n",
    "        self.beta1 = 0.5\n",
    "            \n",
    "opt = Option()"
   ]
  },
  {
   "cell_type": "code",
   "execution_count": 3,
   "metadata": {},
   "outputs": [
    {
     "name": "stdout",
     "output_type": "stream",
     "text": [
      "(60000, 32, 32, 1) (60000, 32, 32, 1)\n"
     ]
    }
   ],
   "source": [
    "# dataset\n",
    "data_train, data_test = tf.keras.datasets.mnist.load_data()\n",
    "x_train, y_train = data_train\n",
    "x_test, y_test = data_test\n",
    "x_train = x_train.astype(np.float32)\n",
    "x_test = x_test.astype(np.float32)\n",
    "# resize to (32, 32)\n",
    "x_train = batch_resize(x_train, (32, 32))[..., None]\n",
    "x_test = batch_resize(x_test, (32, 32))[..., None]\n",
    "# normalization\n",
    "mean = x_train.mean()\n",
    "stddev = x_train.std()\n",
    "x_train = (x_train-mean)/stddev\n",
    "x_test = (x_test-mean)/stddev\n",
    "print(x_train.shape, x_train.shape)\n",
    "# define abnoraml data and normal\n",
    "# training data only contains normal\n",
    "x_train = x_train[y_train!=opt.anomaly]\n",
    "y_train = y_train[y_train!=opt.anomaly]\n",
    "y_test = (y_test==opt.anomaly).astype(np.float32)\n",
    "# tf.data.Dataset\n",
    "train_dataset = tf.data.Dataset.from_tensor_slices((x_train, y_train))\n",
    "test_dataset = tf.data.Dataset.from_tensor_slices((x_test, y_test))\n",
    "train_dataset = train_dataset.shuffle(opt.shuffle_buffer_size).batch(opt.batch_size, drop_remainder=True)\n",
    "test_dataset = test_dataset.batch(opt.batch_size, drop_remainder=False)"
   ]
  },
  {
   "cell_type": "code",
   "execution_count": 4,
   "metadata": {},
   "outputs": [],
   "source": [
    "ganomaly = GANomaly(opt, train_dataset, valid_dataset=None, test_dataset=test_dataset)"
   ]
  },
  {
   "cell_type": "code",
   "execution_count": 5,
   "metadata": {},
   "outputs": [
    {
     "data": {
      "application/vnd.jupyter.widget-view+json": {
       "model_id": "",
       "version_major": 2,
       "version_minor": 0
      },
      "text/plain": [
       "HBox(children=(IntProgress(value=0, max=180), HTML(value='')))"
      ]
     },
     "metadata": {},
     "output_type": "display_data"
    },
    {
     "name": "stdout",
     "output_type": "stream",
     "text": [
      "WARNING:tensorflow:Layer net_g is casting an input tensor from dtype float64 to the layer's dtype of float32, which is new behavior in TensorFlow 2.  The layer has dtype float32 because it's dtype defaults to floatx.\n",
      "\n",
      "If you intended to run this layer in float32, you can safely ignore this warning. If in doubt, this warning is likely only an issue if you are porting a TensorFlow 1.X model to TensorFlow 2.\n",
      "\n",
      "To change all layers to have dtype float64 by default, call `tf.keras.backend.set_floatx('float64')`. To change just this layer, pass dtype='float64' to the layer constructor. If you are the author of this layer, you can disable autocasting by passing autocast=False to the base Layer constructor.\n",
      "\n",
      "WARNING:tensorflow:Layer net_d is casting an input tensor from dtype float64 to the layer's dtype of float32, which is new behavior in TensorFlow 2.  The layer has dtype float32 because it's dtype defaults to floatx.\n",
      "\n",
      "If you intended to run this layer in float32, you can safely ignore this warning. If in doubt, this warning is likely only an issue if you are porting a TensorFlow 1.X model to TensorFlow 2.\n",
      "\n",
      "To change all layers to have dtype float64 by default, call `tf.keras.backend.set_floatx('float64')`. To change just this layer, pass dtype='float64' to the layer constructor. If you are the author of this layer, you can disable autocasting by passing autocast=False to the base Layer constructor.\n",
      "\n",
      "epoch: 0, G_losses: 23.3612, D_losses: 0.6488, samples/sec: 3757.5850\n",
      "*** \t Testing:   roc_auc: 0.6045   average_precision: 0.1150 ***\n"
     ]
    },
    {
     "data": {
      "application/vnd.jupyter.widget-view+json": {
       "model_id": "",
       "version_major": 2,
       "version_minor": 0
      },
      "text/plain": [
       "HBox(children=(IntProgress(value=0, max=180), HTML(value='')))"
      ]
     },
     "metadata": {},
     "output_type": "display_data"
    },
    {
     "name": "stdout",
     "output_type": "stream",
     "text": [
      "epoch: 1, G_losses: 21.6366, D_losses: 0.0251, samples/sec: 6135.8746\n",
      "\t Testing:   roc_auc: 0.5286   average_precision: 0.1055\n"
     ]
    },
    {
     "data": {
      "application/vnd.jupyter.widget-view+json": {
       "model_id": "",
       "version_major": 2,
       "version_minor": 0
      },
      "text/plain": [
       "HBox(children=(IntProgress(value=0, max=180), HTML(value='')))"
      ]
     },
     "metadata": {},
     "output_type": "display_data"
    },
    {
     "name": "stdout",
     "output_type": "stream",
     "text": [
      "epoch: 2, G_losses: 18.0640, D_losses: 0.0160, samples/sec: 6213.4069\n",
      "*** \t Testing:   roc_auc: 0.8777   average_precision: 0.4049 ***\n"
     ]
    },
    {
     "data": {
      "application/vnd.jupyter.widget-view+json": {
       "model_id": "",
       "version_major": 2,
       "version_minor": 0
      },
      "text/plain": [
       "HBox(children=(IntProgress(value=0, max=180), HTML(value='')))"
      ]
     },
     "metadata": {},
     "output_type": "display_data"
    },
    {
     "name": "stdout",
     "output_type": "stream",
     "text": [
      "epoch: 3, G_losses: 15.7726, D_losses: 0.0084, samples/sec: 6162.6831\n",
      "*** \t Testing:   roc_auc: 0.9109   average_precision: 0.5352 ***\n"
     ]
    },
    {
     "data": {
      "application/vnd.jupyter.widget-view+json": {
       "model_id": "",
       "version_major": 2,
       "version_minor": 0
      },
      "text/plain": [
       "HBox(children=(IntProgress(value=0, max=180), HTML(value='')))"
      ]
     },
     "metadata": {},
     "output_type": "display_data"
    },
    {
     "name": "stdout",
     "output_type": "stream",
     "text": [
      "epoch: 4, G_losses: 14.5990, D_losses: 0.0060, samples/sec: 6085.0557\n",
      "*** \t Testing:   roc_auc: 0.9559   average_precision: 0.7305 ***\n"
     ]
    },
    {
     "data": {
      "application/vnd.jupyter.widget-view+json": {
       "model_id": "",
       "version_major": 2,
       "version_minor": 0
      },
      "text/plain": [
       "HBox(children=(IntProgress(value=0, max=180), HTML(value='')))"
      ]
     },
     "metadata": {},
     "output_type": "display_data"
    },
    {
     "name": "stdout",
     "output_type": "stream",
     "text": [
      "epoch: 5, G_losses: 16.6673, D_losses: 4.9375, samples/sec: 6233.5891\n",
      "\t Testing:   roc_auc: 0.9502   average_precision: 0.6534\n"
     ]
    },
    {
     "data": {
      "application/vnd.jupyter.widget-view+json": {
       "model_id": "",
       "version_major": 2,
       "version_minor": 0
      },
      "text/plain": [
       "HBox(children=(IntProgress(value=0, max=180), HTML(value='')))"
      ]
     },
     "metadata": {},
     "output_type": "display_data"
    },
    {
     "name": "stdout",
     "output_type": "stream",
     "text": [
      "epoch: 6, G_losses: 17.8933, D_losses: 7.7125, samples/sec: 6156.1191\n",
      "*** \t Testing:   roc_auc: 0.9572   average_precision: 0.6676 ***\n"
     ]
    },
    {
     "data": {
      "application/vnd.jupyter.widget-view+json": {
       "model_id": "",
       "version_major": 2,
       "version_minor": 0
      },
      "text/plain": [
       "HBox(children=(IntProgress(value=0, max=180), HTML(value='')))"
      ]
     },
     "metadata": {},
     "output_type": "display_data"
    },
    {
     "name": "stdout",
     "output_type": "stream",
     "text": [
      "epoch: 7, G_losses: 17.5884, D_losses: 7.7125, samples/sec: 6118.9101\n",
      "\t Testing:   roc_auc: 0.9555   average_precision: 0.6594\n"
     ]
    },
    {
     "data": {
      "application/vnd.jupyter.widget-view+json": {
       "model_id": "",
       "version_major": 2,
       "version_minor": 0
      },
      "text/plain": [
       "HBox(children=(IntProgress(value=0, max=180), HTML(value='')))"
      ]
     },
     "metadata": {},
     "output_type": "display_data"
    },
    {
     "name": "stdout",
     "output_type": "stream",
     "text": [
      "epoch: 8, G_losses: 17.3482, D_losses: 7.7125, samples/sec: 6268.3540\n",
      "\t Testing:   roc_auc: 0.9501   average_precision: 0.6323\n"
     ]
    },
    {
     "data": {
      "application/vnd.jupyter.widget-view+json": {
       "model_id": "",
       "version_major": 2,
       "version_minor": 0
      },
      "text/plain": [
       "HBox(children=(IntProgress(value=0, max=180), HTML(value='')))"
      ]
     },
     "metadata": {},
     "output_type": "display_data"
    },
    {
     "name": "stdout",
     "output_type": "stream",
     "text": [
      "epoch: 9, G_losses: 17.1597, D_losses: 7.7125, samples/sec: 6259.0678\n",
      "\t Testing:   roc_auc: 0.9434   average_precision: 0.6186\n"
     ]
    },
    {
     "data": {
      "application/vnd.jupyter.widget-view+json": {
       "model_id": "",
       "version_major": 2,
       "version_minor": 0
      },
      "text/plain": [
       "HBox(children=(IntProgress(value=0, max=180), HTML(value='')))"
      ]
     },
     "metadata": {},
     "output_type": "display_data"
    },
    {
     "name": "stdout",
     "output_type": "stream",
     "text": [
      "epoch: 10, G_losses: 17.0022, D_losses: 7.7125, samples/sec: 6224.3115\n",
      "\t Testing:   roc_auc: 0.9511   average_precision: 0.6266\n"
     ]
    },
    {
     "data": {
      "application/vnd.jupyter.widget-view+json": {
       "model_id": "",
       "version_major": 2,
       "version_minor": 0
      },
      "text/plain": [
       "HBox(children=(IntProgress(value=0, max=180), HTML(value='')))"
      ]
     },
     "metadata": {},
     "output_type": "display_data"
    },
    {
     "name": "stdout",
     "output_type": "stream",
     "text": [
      "epoch: 11, G_losses: 16.8770, D_losses: 7.7125, samples/sec: 6130.7547\n",
      "\t Testing:   roc_auc: 0.9453   average_precision: 0.5960\n"
     ]
    },
    {
     "data": {
      "application/vnd.jupyter.widget-view+json": {
       "model_id": "",
       "version_major": 2,
       "version_minor": 0
      },
      "text/plain": [
       "HBox(children=(IntProgress(value=0, max=180), HTML(value='')))"
      ]
     },
     "metadata": {},
     "output_type": "display_data"
    },
    {
     "name": "stdout",
     "output_type": "stream",
     "text": [
      "epoch: 12, G_losses: 16.7575, D_losses: 7.7125, samples/sec: 6242.2062\n",
      "\t Testing:   roc_auc: 0.9440   average_precision: 0.5694\n"
     ]
    },
    {
     "data": {
      "application/vnd.jupyter.widget-view+json": {
       "model_id": "",
       "version_major": 2,
       "version_minor": 0
      },
      "text/plain": [
       "HBox(children=(IntProgress(value=0, max=180), HTML(value='')))"
      ]
     },
     "metadata": {},
     "output_type": "display_data"
    },
    {
     "name": "stdout",
     "output_type": "stream",
     "text": [
      "epoch: 13, G_losses: 16.6629, D_losses: 7.7125, samples/sec: 6279.5673\n",
      "\t Testing:   roc_auc: 0.9465   average_precision: 0.5804\n"
     ]
    },
    {
     "data": {
      "application/vnd.jupyter.widget-view+json": {
       "model_id": "",
       "version_major": 2,
       "version_minor": 0
      },
      "text/plain": [
       "HBox(children=(IntProgress(value=0, max=180), HTML(value='')))"
      ]
     },
     "metadata": {},
     "output_type": "display_data"
    },
    {
     "name": "stdout",
     "output_type": "stream",
     "text": [
      "epoch: 14, G_losses: 16.5742, D_losses: 7.7125, samples/sec: 6255.5554\n",
      "\t Testing:   roc_auc: 0.9444   average_precision: 0.5906\n"
     ]
    }
   ],
   "source": [
    "ganomaly.fit(opt.niter)"
   ]
  },
  {
   "cell_type": "code",
   "execution_count": 6,
   "metadata": {},
   "outputs": [
    {
     "data": {
      "image/png": "[encoded data removed]",
      "text/plain": [
       "<Figure size 432x288 with 1 Axes>"
      ]
     },
     "metadata": {
      "needs_background": "light"
     },
     "output_type": "display_data"
    },
    {
     "data": {
      "image/png": "[encoded data removed]",
      "text/plain": [
       "<Figure size 432x288 with 1 Axes>"
      ]
     },
     "metadata": {
      "needs_background": "light"
     },
     "output_type": "display_data"
    }
   ],
   "source": [
    "ganomaly.evaluate_best(test_dataset)"
   ]
  },
  {
   "cell_type": "code",
   "execution_count": null,
   "metadata": {},
   "outputs": [],
   "source": []
  }
 ],
 "metadata": {
  "kernelspec": {
   "display_name": "Python 3",
   "language": "python",
   "name": "python3"
  },
  "language_info": {
   "codemirror_mode": {
    "name": "ipython",
    "version": 3
   },
   "file_extension": ".py",
   "mimetype": "text/x-python",
   "name": "python",
   "nbconvert_exporter": "python",
   "pygments_lexer": "ipython3",
   "version": "3.6.8"
  }
 },
 "nbformat": 4,
 "nbformat_minor": 4
}
